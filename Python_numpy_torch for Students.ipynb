{
 "cells": [
  {
   "cell_type": "code",
   "execution_count": null,
   "id": "33b037be",
   "metadata": {},
   "outputs": [],
   "source": [
    "import torch\n",
    "import numpy as np\n",
    "import sys"
   ]
  },
  {
   "cell_type": "code",
   "execution_count": null,
   "id": "344019e6",
   "metadata": {},
   "outputs": [],
   "source": [
    "print(\"=\" * 80)\n",
    "print(\" NumPy ↔ PyTorch Comprehensive Practice\")\n",
    "print(\"=\" * 80)\n",
    "print(f\"NumPy version: {np.__version__}\")\n",
    "print(f\"PyTorch version: {torch.__version__}\")\n",
    "print(\"=\" * 80 + \"\\n\")"
   ]
  },
  {
   "cell_type": "markdown",
   "id": "ed0386de",
   "metadata": {},
   "source": [
    "# ==========================================\n",
    "# Section 1: Basic Conversions\n",
    "# =========================================="
   ]
  },
  {
   "cell_type": "code",
   "execution_count": null,
   "id": "6eb6ee2b",
   "metadata": {},
   "outputs": [],
   "source": [
    "print(\"📌 Section 1: Basic Conversions\")\n",
    "print(\"-\" * 50)\n",
    "\n",
    "# NumPy to PyTorch\n",
    "\n",
    "\n",
    "print(\"1.1 NumPy → PyTorch:\")\n",
    "print(f\"    NumPy array:\\n\")\n",
    "print(f\"    PyTorch tensor:\\n\")\n",
    "print(f\"    Tensor dtype: \\n\")\n",
    "\n",
    "# PyTorch to NumPy\n",
    "\n",
    "\n",
    "print(\"1.2 PyTorch → NumPy:\")\n",
    "print(f\"    PyTorch tensor:\\n\")\n",
    "print(f\"    NumPy array:\\n\")\n",
    "print(f\"    Array dtype: \\n\")\n"
   ]
  },
  {
   "cell_type": "markdown",
   "id": "a488f6ce",
   "metadata": {},
   "source": [
    "# ==========================================\n",
    "# Section 2: Property Comparison\n",
    "# =========================================="
   ]
  },
  {
   "cell_type": "code",
   "execution_count": null,
   "id": "706b7e14",
   "metadata": {},
   "outputs": [],
   "source": [
    "\n",
    "# Create a random array for comparison\n",
    "\n",
    "\n",
    "print(\"2.1 NumPy Array Properties:\")\n",
    "print(f\"    Shape: \")\n",
    "print(f\"    Dimensions: \")\n",
    "print(f\"    Total elements: \")\n",
    "print(f\"    Data type: \")\n",
    "print(f\"    Memory usage:  bytes\")\n",
    "print(f\"    Item size:  bytes\")\n",
    "print(f\"    Strides: \")\n",
    "print(f\"    C-contiguous: \")\n",
    "print(f\"    Fortran-contiguous: \\n\")\n",
    "\n",
    "print(\"2.2 PyTorch Tensor Properties:\")\n",
    "print(f\"    Shape: \")\n",
    "print(f\"    Size: \")\n",
    "print(f\"    Dimensions: \")\n",
    "print(f\"    Total elements: \")\n",
    "print(f\"    Data type: \")\n",
    "print(f\"    Device: \")\n",
    "print(f\"    Layout: \")\n",
    "print(f\"    Strides: \")\n",
    "print(f\"    Requires grad: \")\n",
    "print(f\"    Is contiguous: \\n\")"
   ]
  },
  {
   "cell_type": "markdown",
   "id": "fdf672b2",
   "metadata": {},
   "source": [
    "# ==========================================\n",
    "# Section 3: Memory Sharing vs Copying\n",
    "# =========================================="
   ]
  },
  {
   "cell_type": "code",
   "execution_count": null,
   "id": "fcbf86be",
   "metadata": {},
   "outputs": [],
   "source": [
    "print(\"📌 Section 3: Memory Sharing vs Copying\")\n",
    "print(\"-\" * 50)\n",
    "\n",
    "# Shared memory (view)\n",
    "print(\"3.1 Shared Memory (from_numpy creates a view):\")\n",
    "\n",
    "print(f\"    Original NumPy: \")\n",
    "print(f\"    Tensor (shared): \")\n",
    "\n",
    "original_np[0] = 999.0\n",
    "print(f\"    After modifying NumPy[0] = 999:\")\n",
    "print(f\"    NumPy: \")\n",
    "print(f\"    Tensor:  ← Changed!\\n\")\n",
    "\n",
    "# Independent copy\n",
    "print(\"3.2 Independent Copy (tensor() creates a copy):\")\n",
    "\n",
    "print(f\"    Original NumPy: \")\n",
    "print(f\"    Tensor (copy): \")\n",
    "\n",
    "\n",
    "print(f\"    After modifying NumPy[0] = 888:\")\n",
    "print(f\"    NumPy: \")\n",
    "print(f\"    Tensor:  ← Unchanged!\\n\")"
   ]
  },
  {
   "cell_type": "markdown",
   "id": "0e048cad",
   "metadata": {},
   "source": [
    "# ==========================================\n",
    "# Section 4: Transpose and Contiguous Memory\n",
    "# =========================================="
   ]
  },
  {
   "cell_type": "code",
   "execution_count": null,
   "id": "cd155f19",
   "metadata": {},
   "outputs": [],
   "source": [
    "print(\"📌 Section 4: Transpose and Contiguous Memory\")\n",
    "print(\"-\" * 50)\n",
    "\n",
    "# NumPy transpose\n",
    "print(\"4.1 NumPy Transpose:\")\n",
    "\n",
    "\n",
    "print(f\"    Original shape: \")\n",
    "print(f\"    Original:\\n\")\n",
    "print(f\"    Original C-contiguous: \")\n",
    "print(f\"    Original strides: \\n\")\n",
    "\n",
    "print(f\"    Transposed shape: \")\n",
    "print(f\"    Transposed:\\n\")\n",
    "print(f\"    Transposed C-contiguous: \")\n",
    "print(f\"    Transposed strides: \\n\")\n",
    "\n",
    "\n",
    "# PyTorch transpose\n",
    "print(\"4.2 PyTorch Transpose:\")\n",
    "\n",
    "print(f\"    Original shape: \")\n",
    "print(f\"    Original:\\n\")\n",
    "print(f\"    Original contiguous: \")\n",
    "print(f\"    Original strides: \\n\")\n",
    "\n",
    "print(f\"    Transposed shape: \")\n",
    "print(f\"    Transposed:\\n\")\n",
    "print(f\"    Transposed contiguous:  ← Not contiguous!\")\n",
    "print(f\"    Transposed strides: \\n\")\n",
    "\n",
    "# Making it contiguous again\n",
    "print(\"4.3 Making Tensor Contiguous:\")\n",
    "\n",
    "print(f\"    After .contiguous(): \")\n",
    "print(f\"    New strides: \\n\")\n",
    "\n",
    "# NumPy transpose to PyTorch\n",
    "print(\"4.4 NumPy Transposed → PyTorch:\")\n",
    "\n",
    "print(f\"    NumPy transposed C-contiguous: \")\n",
    "print(f\"    Resulting tensor contiguous: \")\n",
    "print(f\"    Tensor strides: \\n\")"
   ]
  },
  {
   "cell_type": "markdown",
   "id": "24a45947",
   "metadata": {},
   "source": [
    "# ==========================================\n",
    "# Section 5: Practical Applications\n",
    "# =========================================="
   ]
  },
  {
   "cell_type": "code",
   "execution_count": null,
   "id": "725bb788",
   "metadata": {},
   "outputs": [],
   "source": [
    "print(\"📌 Section 5: Practical Applications\")\n",
    "print(\"-\" * 50)\n",
    "\n",
    "# Using NumPy functions with PyTorch tensors\n",
    "print(\"5.1 NumPy Functions on PyTorch Tensors:\")\n",
    "\n",
    "print(f\"    Original tensor: {tensor}\")\n",
    "\n",
    "# Convert to NumPy, apply function, convert back\n",
    "\n",
    "print(f\"    After np.sqrt: \\n\")\n",
    "\n",
    "# Complex operation chain\n",
    "print(\"5.2 Operation Chain (PyTorch → NumPy → PyTorch):\")\n",
    "\n",
    "print(f\"    Random tensor:\\n\")\n",
    "\n",
    "# Chain of operations\n",
    "\n",
    "print(f\"    After softmax (via NumPy):\\n\")\n",
    "print(f\"    Sum (should be ~1.0): \\n\")"
   ]
  },
  {
   "cell_type": "code",
   "execution_count": null,
   "id": "85dba359",
   "metadata": {},
   "outputs": [],
   "source": [
    "# ==========================================\n",
    "# Section 6: Memory Layout Visualization\n",
    "# =========================================="
   ]
  },
  {
   "cell_type": "code",
   "execution_count": null,
   "id": "b252c13d",
   "metadata": {},
   "outputs": [],
   "source": [
    "print(\"📌 Section 6: Memory Layout Visualization\")\n",
    "print(\"-\" * 50)\n",
    "\n",
    "def print_memory_info(name, arr_or_tensor):\n",
    "    \"\"\"Helper function to print memory layout information\"\"\"\n",
    "    if isinstance():\n",
    "        print(f\"{name}:\")\n",
    "        print(f\"    Shape: \")\n",
    "        print(f\"    Strides: \")\n",
    "        print(f\"    C-contiguous: \")\n",
    "        print(f\"    F-contiguous: \")\n",
    "    else:  # PyTorch tensor\n",
    "        print(f\"{name}:\")\n",
    "        print(f\"    Shape: \")\n",
    "        print(f\"    Strides: \")\n",
    "        print(f\"    Contiguous: \")\n",
    "\n",
    "# Create a 3D example to better show memory layout\n",
    "print(\"6.1 3D Array/Tensor Memory Layout:\")\n",
    "\n",
    "print()\n",
    "\n",
    "# Permute dimensions\n",
    "\n",
    "\n",
    "print(\"6.2 After Permutation (2, 0, 1):\")\n",
    "\n",
    "print()\n",
    "\n",
    "# Show the effect of contiguous\n",
    "\n",
    "print(\"6.3 After making PyTorch tensor contiguous:\")\n",
    "\n",
    "\n",
    "print(\"\\n\" + \"=\" * 80)\n",
    "print(\" Practice Complete!\")\n",
    "print(\"=\" * 80)"
   ]
  }
 ],
 "metadata": {
  "kernelspec": {
   "display_name": "Python 3",
   "language": "python",
   "name": "python3"
  },
  "language_info": {
   "codemirror_mode": {
    "name": "ipython",
    "version": 3
   },
   "file_extension": ".py",
   "mimetype": "text/x-python",
   "name": "python",
   "nbconvert_exporter": "python",
   "pygments_lexer": "ipython3",
   "version": "3.13.7"
  }
 },
 "nbformat": 4,
 "nbformat_minor": 5
}
